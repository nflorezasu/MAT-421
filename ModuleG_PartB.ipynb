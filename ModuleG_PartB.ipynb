{
  "nbformat": 4,
  "nbformat_minor": 0,
  "metadata": {
    "colab": {
      "name": "ModuleG_PartB.ipynb",
      "provenance": [],
      "authorship_tag": "ABX9TyPr80Z7fypeQP8Wt4tJcuMo",
      "include_colab_link": true
    },
    "kernelspec": {
      "name": "python3",
      "display_name": "Python 3"
    },
    "language_info": {
      "name": "python"
    }
  },
  "cells": [
    {
      "cell_type": "markdown",
      "metadata": {
        "id": "view-in-github",
        "colab_type": "text"
      },
      "source": [
        "<a href=\"https://colab.research.google.com/github/nflorezasu/MAT-421/blob/main/ModuleG_PartB.ipynb\" target=\"_parent\"><img src=\"https://colab.research.google.com/assets/colab-badge.svg\" alt=\"Open In Colab\"/></a>"
      ]
    },
    {
      "cell_type": "code",
      "execution_count": 4,
      "metadata": {
        "colab": {
          "base_uri": "https://localhost:8080/"
        },
        "id": "CuRmIu3iqIAZ",
        "outputId": "15cd1b88-d4f5-4223-fa47-f887bf5e6370"
      },
      "outputs": [
        {
          "output_type": "stream",
          "name": "stdout",
          "text": [
            "0.625\n",
            "0.375\n",
            "0.3333333333333333\n",
            "2.961547346105437\n",
            "2.9256659293914926\n",
            "2.9253397355720656\n"
          ]
        }
      ],
      "source": [
        "# MAT 421 Spring 2022\n",
        "# Module G 21.4, 21.5\n",
        "# Nick Florez\n",
        "\n",
        "# Problem 4\n",
        "\n",
        "import numpy as np\n",
        "#Function to calculate derivative using Simpson method\n",
        "#f = function \n",
        "#a, b: intervals\n",
        "#N : number of intervals\n",
        "#I = evaluated integral\n",
        "\n",
        "def my_num_int(f, a, b, n, option):\n",
        "    h = (b - a) / (n - 1)\n",
        "    x = np.linspace(a, b, n)\n",
        "    f = f(x)\n",
        "    if option == 'rect':\n",
        "        IR = h * sum(f[1::])\n",
        "        return IR\n",
        "    elif  option == 'trap':\n",
        "        IT = (h / 2) * (f[0] + 2 * sum(f[1:n - 1]) + f[n - 1])\n",
        "        return IT\n",
        "    elif option  == 'simp':\n",
        "        IS = (h / 3) * (f[0] + 2 * sum(f[:n - 2:2]) + 4 * sum(f[1:n - 1:2]) +\n",
        "                        f[n - 1])\n",
        "        return IS\n",
        "\n",
        "\n",
        "#Test cases\n",
        "f = lambda x: x**2\n",
        "print(my_num_int(f, 0, 1, 3, \"rect\"))\n",
        "print(my_num_int(f, 0, 1, 3, \"trap\"))\n",
        "print(my_num_int(f, 0, 1, 3, \"simp\"))\n",
        "\n",
        "#Test case #2\n",
        "f = lambda x: np.exp(x**2)\n",
        "print(my_num_int(f, -1, 1, 101, \"simp\"))\n",
        "print(my_num_int(f, -1, 1, 10001, \"simp\"))\n",
        "print(my_num_int(f, -1, 1, 100001, \"simp\"))\n"
      ]
    }
  ]
}