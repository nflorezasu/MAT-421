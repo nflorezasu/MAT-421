{
  "nbformat": 4,
  "nbformat_minor": 0,
  "metadata": {
    "colab": {
      "name": "ModuleG_Part1.ipynb",
      "provenance": [],
      "collapsed_sections": [],
      "authorship_tag": "ABX9TyNfFwEPgF2BwIziKNsW4zfa",
      "include_colab_link": true
    },
    "kernelspec": {
      "name": "python3",
      "display_name": "Python 3"
    },
    "language_info": {
      "name": "python"
    }
  },
  "cells": [
    {
      "cell_type": "markdown",
      "metadata": {
        "id": "view-in-github",
        "colab_type": "text"
      },
      "source": [
        "<a href=\"https://colab.research.google.com/github/nflorezasu/MAT-421/blob/main/ModuleG_Part1.ipynb\" target=\"_parent\"><img src=\"https://colab.research.google.com/assets/colab-badge.svg\" alt=\"Open In Colab\"/></a>"
      ]
    },
    {
      "cell_type": "code",
      "execution_count": 3,
      "metadata": {
        "colab": {
          "base_uri": "https://localhost:8080/"
        },
        "id": "jZ1IH0wR6Da3",
        "outputId": "638d4e5a-7dbb-4e1a-a1fe-bb9504893f76"
      },
      "outputs": [
        {
          "output_type": "stream",
          "name": "stdout",
          "text": [
            "Riemann 1.9919970908842144\n",
            "Trapezoidal 1.989837090760849\n"
          ]
        }
      ],
      "source": [
        "# MAT 421 Spring 2022\n",
        "# Nick Florez\n",
        "# Arizona State University \n",
        "\n",
        "# Chapter 21: Numerical Integration\n",
        "\n",
        "# Problem 1\n",
        "\n",
        "import numpy as np\n",
        "\n",
        "def my_int_calc(f, f0, a, b, N, option):\n",
        "    h = (b - a)/(N - 1)\n",
        "    x = np.linspace(a, b, N)\n",
        "    F = f(x)\n",
        "    #function to calculate integral useing Riemann method\n",
        "    def riemann(F, h):\n",
        "        return h * sum(F[1::])\n",
        "    #function to calculate using Trapezoidal rule\n",
        "    def trapezoid(F, h):\n",
        "        return (h / 2) * (F[0] + 2 * sum(F[1:N - 1]) + F[N - 1])\n",
        "\n",
        "    I = 0\n",
        "    if (option == \"trap\"):\n",
        "        I = trapezoid(F, h)\n",
        "    elif (option == \"rect\"):\n",
        "        I = riemann(F, h)\n",
        "    else:\n",
        "        print(\"Invalid option!\")\n",
        "        return;\n",
        "    \n",
        "    #Adding intial value to the calculated intergral\n",
        "    I = I + f0\n",
        "    return I\n",
        "#defining function\n",
        "def f(x):\n",
        "    return np.sin(x)\n",
        "\n",
        "#Test cases for different methods\n",
        "\n",
        "I = my_int_calc(f, 0, 0, 3, 99, 'rect')\n",
        "print(\"Riemann\", I)\n",
        "I = my_int_calc(f, 0, 0, 3, 99, 'trap')\n",
        "print(\"Trapezoidal\", I)\n",
        "\n",
        "     \n",
        "            \n",
        "\n"
      ]
    },
    {
      "cell_type": "code",
      "source": [
        ""
      ],
      "metadata": {
        "id": "obLHraIK85aP"
      },
      "execution_count": null,
      "outputs": []
    }
  ]
}