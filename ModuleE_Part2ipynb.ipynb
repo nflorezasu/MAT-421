{
  "nbformat": 4,
  "nbformat_minor": 0,
  "metadata": {
    "colab": {
      "name": "ModuleE_Part2ipynb",
      "provenance": [],
      "collapsed_sections": [],
      "authorship_tag": "ABX9TyMSBXMLLXuym9QKJc1hsr24",
      "include_colab_link": true
    },
    "kernelspec": {
      "name": "python3",
      "display_name": "Python 3"
    },
    "language_info": {
      "name": "python"
    }
  },
  "cells": [
    {
      "cell_type": "markdown",
      "metadata": {
        "id": "view-in-github",
        "colab_type": "text"
      },
      "source": [
        "<a href=\"https://colab.research.google.com/github/nflorezasu/MAT-421/blob/main/ModuleE_Part2ipynb.ipynb\" target=\"_parent\"><img src=\"https://colab.research.google.com/assets/colab-badge.svg\" alt=\"Open In Colab\"/></a>"
      ]
    },
    {
      "cell_type": "code",
      "execution_count": 1,
      "metadata": {
        "colab": {
          "base_uri": "https://localhost:8080/"
        },
        "id": "bbg5ga___8cs",
        "outputId": "04a8de81-a337-46d5-aed3-9b9fac7de0b2"
      },
      "outputs": [
        {
          "output_type": "stream",
          "name": "stdout",
          "text": [
            "              precision    recall  f1-score   support\n",
            "\n",
            "           0       0.98      0.81      0.89        54\n",
            "           1       0.92      0.99      0.95       117\n",
            "\n",
            "    accuracy                           0.94       171\n",
            "   macro avg       0.95      0.90      0.92       171\n",
            "weighted avg       0.94      0.94      0.93       171\n",
            "\n",
            "[[ 44  10]\n",
            " [  1 116]]\n"
          ]
        }
      ],
      "source": [
        "# MAT 421 Spring 2022\n",
        "# Module E 3.3-3.6, 3.7 (Optional)\n",
        "# Nick Florez\n",
        "\n",
        "# 3.6 Support Vector Machine through scikitlearn\n",
        "import pandas as pd\n",
        "import numpy as np\n",
        "#Visualization imports\n",
        "import matplotlib.pyplot as plt\n",
        "%matplotlib inline\n",
        "import seaborn as sns\n",
        "#Import the data set from scikit-learn\n",
        "from sklearn.datasets import load_breast_cancer\n",
        "\n",
        "cancer_data = load_breast_cancer()\n",
        "raw_data = pd.DataFrame(cancer_data['data'], columns = cancer_data['feature_names'])\n",
        "#Split the data set into training data and test data\n",
        "x = raw_data\n",
        "y = cancer_data['target']\n",
        "\n",
        "from sklearn.model_selection import train_test_split\n",
        "x_training_data, x_test_data, y_training_data, y_test_data = train_test_split(x, y, test_size = 0.3)\n",
        "#Train the SVM model\n",
        "from sklearn.svm import SVC\n",
        "model = SVC()\n",
        "model.fit(x_training_data, y_training_data)\n",
        "\n",
        "#Make predictions with the model\n",
        "predictions = model.predict(x_test_data)\n",
        "#Measure the performance of our model\n",
        "from sklearn.metrics import classification_report\n",
        "from sklearn.metrics import confusion_matrix\n",
        "print(classification_report(y_test_data, predictions))\n",
        "print(confusion_matrix(y_test_data, predictions))\n"
      ]
    },
    {
      "cell_type": "code",
      "source": [
        ""
      ],
      "metadata": {
        "id": "PL6UCalXBsk9"
      },
      "execution_count": null,
      "outputs": []
    }
  ]
}