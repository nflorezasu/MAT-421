{
  "nbformat": 4,
  "nbformat_minor": 0,
  "metadata": {
    "colab": {
      "name": "Homework_5.ipynb",
      "provenance": [],
      "authorship_tag": "ABX9TyNbIkxzqXOgUZ6tGNEd+QOB",
      "include_colab_link": true
    },
    "kernelspec": {
      "name": "python3",
      "display_name": "Python 3"
    },
    "language_info": {
      "name": "python"
    }
  },
  "cells": [
    {
      "cell_type": "markdown",
      "metadata": {
        "id": "view-in-github",
        "colab_type": "text"
      },
      "source": [
        "<a href=\"https://colab.research.google.com/github/nflorezasu/MAT-421/blob/main/Homework_5.ipynb\" target=\"_parent\"><img src=\"https://colab.research.google.com/assets/colab-badge.svg\" alt=\"Open In Colab\"/></a>"
      ]
    },
    {
      "cell_type": "code",
      "execution_count": null,
      "metadata": {
        "colab": {
          "base_uri": "https://localhost:8080/"
        },
        "id": "NOkOyRzgvXR0",
        "outputId": "1c08dd76-5046-466e-8dc0-195d2eba7e78"
      },
      "outputs": [
        {
          "output_type": "stream",
          "name": "stdout",
          "text": [
            "Number of leap years between 1500 and 2010: 124\n",
            "Sinh value for x = 2 using formula: 3.6266339041986417\n",
            "Sinh value for x = 2 using python: 3.626860407847019\n",
            "sin(x)^2 + cos(x)^2 = 1\n",
            "For pi: Verified\n",
            "For pi/2: Verified\n",
            "For pi/4: Verified\n",
            "For pi/6: Verified\n"
          ]
        }
      ],
      "source": [
        "# MAT 421\n",
        "# Homework 5 (Modules 1.1 - 1.3; 1.4 optional)\n",
        "# Spring 2022\n",
        "# Nick Florez\n",
        "\n",
        "# Problem 10\n",
        "\n",
        "#initialize variables\n",
        "I, r = 1500, 2010\n",
        "#variable to store leap year count\n",
        "count = 0\n",
        "#Iterate from I to r\n",
        "while I <= r:\n",
        "    if I % 400 == 0 or I % 4 == 0 and I % 100 != 0:\n",
        "        count += 1\n",
        "    I += 1\n",
        "\n",
        "print(\"Number of leap years between 1500 and 2010:\", count)\n"
      ]
    },
    {
      "cell_type": "code",
      "source": [
        "# Problem 12\n",
        "# Calculate value of sinh using given using exponentials \n",
        "import math\n",
        "\n",
        "def sinh_estimate(x):\n",
        "    sin_hyperbole = 0\n",
        "    e = 2.7182\n",
        "    sin_hyperbole = ((e**x)-(e**(-x)))/2\n",
        "    return sin_hyperbole\n",
        "\n",
        "#Test Cases\n",
        "print(\"Sinh value for x = 2 using formula:\", sinh_estimate(2))\n",
        "print(\"Sinh value for x = 2 using python:\", math.sinh(2))\n",
        "#Answers are similar and about 3.627\n"
      ],
      "metadata": {
        "id": "-dOFYgko_m_a"
      },
      "execution_count": null,
      "outputs": []
    },
    {
      "cell_type": "code",
      "source": [
        "# Problem 13\n",
        "# Verify value of sin(x)^2 + cos(x)^2 is true for given values\n",
        "import math\n",
        "\n",
        "def sin2cos2(x):\n",
        "    total = 0 #end value\n",
        "    result = \"\"\n",
        "\n",
        "    #calculate actual value:\n",
        "    total = (math.sin(x)** 2) + (math.cos(x)**2)\n",
        "    if total == 1:\n",
        "        result = \"Verified\"\n",
        "    else:\n",
        "        result =\"Not verified\"\n",
        "    return result\n",
        "\n",
        "print(\"sin(x)^2 + cos(x)^2 = 1\")\n",
        "print(\"For pi:\", sin2cos2(math.pi))\n",
        "print(\"For pi/2:\", sin2cos2(math.pi/2))\n",
        "print(\"For pi/4:\", sin2cos2(math.pi/4))\n",
        "print(\"For pi/6:\", sin2cos2(math.pi/6))\n"
      ],
      "metadata": {
        "id": "anl-03L6D5zi"
      },
      "execution_count": null,
      "outputs": []
    },
    {
      "cell_type": "code",
      "source": [
        "#Problem 14\n",
        "#Compute sine of 87 degrees\n",
        "\n",
        "import math\n",
        "def sine(x):\n",
        "    e = 2.71828\n",
        "    value = (e**(x*1j)).imag\n",
        "    return value\n",
        "\n",
        "print(\"Value of sin(87) using formula:\", sine(87))\n",
        "print(\"Value of sin(87) using python:\", math.sin(87))\n"
      ],
      "metadata": {
        "colab": {
          "base_uri": "https://localhost:8080/"
        },
        "id": "-k0c2YlKEAKM",
        "outputId": "0cc0acae-a20b-4688-bff8-295d53c23095"
      },
      "execution_count": null,
      "outputs": [
        {
          "output_type": "stream",
          "name": "stdout",
          "text": [
            "Value of sin(87) using formula: -0.8218511774612223\n",
            "Value of sin(87) using python: -0.8218178366308225\n"
          ]
        }
      ]
    },
    {
      "cell_type": "code",
      "source": [
        "# Problem 15\n",
        "import math\n",
        "\n",
        "print(\"Sin(0) = \", math.sin(0))\n",
        "#print error\n",
        "math.sni(90)"
      ],
      "metadata": {
        "colab": {
          "base_uri": "https://localhost:8080/",
          "height": 217
        },
        "id": "aehAVjqk3bmx",
        "outputId": "ab4e7bbb-8e35-4e5c-d051-07c65e7ab06f"
      },
      "execution_count": 2,
      "outputs": [
        {
          "output_type": "stream",
          "name": "stdout",
          "text": [
            "Sin(0) =  0.0\n"
          ]
        },
        {
          "output_type": "error",
          "ename": "AttributeError",
          "evalue": "ignored",
          "traceback": [
            "\u001b[0;31m---------------------------------------------------------------------------\u001b[0m",
            "\u001b[0;31mAttributeError\u001b[0m                            Traceback (most recent call last)",
            "\u001b[0;32m<ipython-input-2-eac4530221e1>\u001b[0m in \u001b[0;36m<module>\u001b[0;34m()\u001b[0m\n\u001b[1;32m      4\u001b[0m \u001b[0mprint\u001b[0m\u001b[0;34m(\u001b[0m\u001b[0;34m\"Sin(0) = \"\u001b[0m\u001b[0;34m,\u001b[0m \u001b[0mmath\u001b[0m\u001b[0;34m.\u001b[0m\u001b[0msin\u001b[0m\u001b[0;34m(\u001b[0m\u001b[0;36m0\u001b[0m\u001b[0;34m)\u001b[0m\u001b[0;34m)\u001b[0m\u001b[0;34m\u001b[0m\u001b[0;34m\u001b[0m\u001b[0m\n\u001b[1;32m      5\u001b[0m \u001b[0;31m#print error\u001b[0m\u001b[0;34m\u001b[0m\u001b[0;34m\u001b[0m\u001b[0;34m\u001b[0m\u001b[0m\n\u001b[0;32m----> 6\u001b[0;31m \u001b[0mmath\u001b[0m\u001b[0;34m.\u001b[0m\u001b[0msni\u001b[0m\u001b[0;34m(\u001b[0m\u001b[0;36m90\u001b[0m\u001b[0;34m)\u001b[0m\u001b[0;34m\u001b[0m\u001b[0;34m\u001b[0m\u001b[0m\n\u001b[0m",
            "\u001b[0;31mAttributeError\u001b[0m: module 'math' has no attribute 'sni'"
          ]
        }
      ]
    },
    {
      "cell_type": "code",
      "source": [
        "# Problem 16\n",
        "import math\n",
        "\n",
        "print(\"Sin(0) = \", math.sin(0))\n",
        "#print error\n",
        "math.sin()"
      ],
      "metadata": {
        "colab": {
          "base_uri": "https://localhost:8080/",
          "height": 217
        },
        "id": "CVWWCRvz32Cu",
        "outputId": "139bf6fc-4dcf-4486-8362-727ad3b4c010"
      },
      "execution_count": 4,
      "outputs": [
        {
          "output_type": "stream",
          "name": "stdout",
          "text": [
            "Sin(0) =  0.0\n"
          ]
        },
        {
          "output_type": "error",
          "ename": "TypeError",
          "evalue": "ignored",
          "traceback": [
            "\u001b[0;31m---------------------------------------------------------------------------\u001b[0m",
            "\u001b[0;31mTypeError\u001b[0m                                 Traceback (most recent call last)",
            "\u001b[0;32m<ipython-input-4-e4bf3f59cca0>\u001b[0m in \u001b[0;36m<module>\u001b[0;34m()\u001b[0m\n\u001b[1;32m      4\u001b[0m \u001b[0mprint\u001b[0m\u001b[0;34m(\u001b[0m\u001b[0;34m\"Sin(0) = \"\u001b[0m\u001b[0;34m,\u001b[0m \u001b[0mmath\u001b[0m\u001b[0;34m.\u001b[0m\u001b[0msin\u001b[0m\u001b[0;34m(\u001b[0m\u001b[0;36m0\u001b[0m\u001b[0;34m)\u001b[0m\u001b[0;34m)\u001b[0m\u001b[0;34m\u001b[0m\u001b[0;34m\u001b[0m\u001b[0m\n\u001b[1;32m      5\u001b[0m \u001b[0;31m#print error\u001b[0m\u001b[0;34m\u001b[0m\u001b[0;34m\u001b[0m\u001b[0;34m\u001b[0m\u001b[0m\n\u001b[0;32m----> 6\u001b[0;31m \u001b[0mmath\u001b[0m\u001b[0;34m.\u001b[0m\u001b[0msin\u001b[0m\u001b[0;34m(\u001b[0m\u001b[0;34m)\u001b[0m\u001b[0;34m\u001b[0m\u001b[0;34m\u001b[0m\u001b[0m\n\u001b[0m",
            "\u001b[0;31mTypeError\u001b[0m: sin() takes exactly one argument (0 given)"
          ]
        }
      ]
    }
  ]
}