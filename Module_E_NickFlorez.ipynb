{
  "nbformat": 4,
  "nbformat_minor": 0,
  "metadata": {
    "colab": {
      "name": "Module E_NickFlorez.ipynb",
      "provenance": [],
      "collapsed_sections": [],
      "authorship_tag": "ABX9TyObAZ1QtVNapooS7ed7zVT5",
      "include_colab_link": true
    },
    "kernelspec": {
      "name": "python3",
      "display_name": "Python 3"
    },
    "language_info": {
      "name": "python"
    }
  },
  "cells": [
    {
      "cell_type": "markdown",
      "metadata": {
        "id": "view-in-github",
        "colab_type": "text"
      },
      "source": [
        "<a href=\"https://colab.research.google.com/github/nflorezasu/MAT-421/blob/main/Module_E_NickFlorez.ipynb\" target=\"_parent\"><img src=\"https://colab.research.google.com/assets/colab-badge.svg\" alt=\"Open In Colab\"/></a>"
      ]
    },
    {
      "cell_type": "code",
      "execution_count": null,
      "metadata": {
        "colab": {
          "base_uri": "https://localhost:8080/"
        },
        "id": "JArKAUZ_rzQq",
        "outputId": "a9a741fb-df0e-4881-c995-aace382058a4"
      },
      "outputs": [
        {
          "output_type": "execute_result",
          "data": {
            "text/plain": [
              "4"
            ]
          },
          "metadata": {},
          "execution_count": 12
        }
      ],
      "source": [
        "# MAT 421 Spring 2022\n",
        "# Module E\n",
        "# Nick Florez\n",
        "\n",
        "# Problem 1: Using derivatives in python\n",
        "\n",
        "from sympy import *\n",
        "import sympy as sym\n",
        " \n",
        "# create a \"symbol\" called x\n",
        "x = Symbol('x')\n",
        " \n",
        "#Define function\n",
        "f = x**2\n",
        " \n",
        "f1 = lambdify(x, f)\n",
        "#passing x=2 to the function\n",
        "f1(2)"
      ]
    },
    {
      "cell_type": "code",
      "source": [
        "#Power rule\n",
        "x = sym.Symbol('x')\n",
        "f = x**5\n",
        "derivative_f = f.diff(x)\n",
        "derivative_f\n"
      ],
      "metadata": {
        "colab": {
          "base_uri": "https://localhost:8080/",
          "height": 39
        },
        "id": "LRHpB2f9uD56",
        "outputId": "2e03d89d-d033-4a80-e4a8-77d2eaf25f0f"
      },
      "execution_count": null,
      "outputs": [
        {
          "output_type": "execute_result",
          "data": {
            "text/latex": "$\\displaystyle 5 x^{4}$",
            "text/plain": [
              "5*x**4"
            ]
          },
          "metadata": {},
          "execution_count": 13
        }
      ]
    },
    {
      "cell_type": "code",
      "source": [
        "#Product rule\n",
        "#(uv)′ = u′v + uv′\n",
        "x = sym.Symbol('x')\n",
        "f = sym.exp(x)*sym.cos(x)\n",
        "deriv_f = f.diff(x)\n",
        "deriv_f"
      ],
      "metadata": {
        "colab": {
          "base_uri": "https://localhost:8080/",
          "height": 39
        },
        "id": "h4X0_gUDtTrJ",
        "outputId": "17b9e065-52ac-4eca-95da-68209df7dbd3"
      },
      "execution_count": null,
      "outputs": [
        {
          "output_type": "execute_result",
          "data": {
            "text/latex": "$\\displaystyle - e^{x} \\sin{\\left(x \\right)} + e^{x} \\cos{\\left(x \\right)}$",
            "text/plain": [
              "-exp(x)*sin(x) + exp(x)*cos(x)"
            ]
          },
          "metadata": {},
          "execution_count": 14
        }
      ]
    },
    {
      "cell_type": "code",
      "source": [
        "#Taylor Series\n",
        "import math\n",
        "\n",
        "x = 2\n",
        "e_to_2 = 0\n",
        "for i in range(5):\n",
        "    e_to_2 += x**i/math.factorial(i)\n",
        "    \n",
        "print(e_to_2)"
      ],
      "metadata": {
        "colab": {
          "base_uri": "https://localhost:8080/"
        },
        "id": "1dyoXRwFuYEc",
        "outputId": "d8d2b815-032d-4838-c4b0-757b78a04a09"
      },
      "execution_count": null,
      "outputs": [
        {
          "output_type": "stream",
          "name": "stdout",
          "text": [
            "7.0\n"
          ]
        }
      ]
    }
  ]
}