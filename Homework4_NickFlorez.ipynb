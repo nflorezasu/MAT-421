{
  "nbformat": 4,
  "nbformat_minor": 0,
  "metadata": {
    "colab": {
      "name": "Homework4_NickFlorez.ipynb",
      "provenance": [],
      "authorship_tag": "ABX9TyOAWr0x8Ea26uv3TzbHv3UV",
      "include_colab_link": true
    },
    "kernelspec": {
      "name": "python3",
      "display_name": "Python 3"
    },
    "language_info": {
      "name": "python"
    }
  },
  "cells": [
    {
      "cell_type": "markdown",
      "metadata": {
        "id": "view-in-github",
        "colab_type": "text"
      },
      "source": [
        "<a href=\"https://colab.research.google.com/github/nflorezasu/MAT-421/blob/main/Homework4_NickFlorez.ipynb\" target=\"_parent\"><img src=\"https://colab.research.google.com/assets/colab-badge.svg\" alt=\"Open In Colab\"/></a>"
      ]
    },
    {
      "cell_type": "code",
      "execution_count": null,
      "metadata": {
        "colab": {
          "base_uri": "https://localhost:8080/"
        },
        "id": "pbrFCIScgUbh",
        "outputId": "c38e0df3-b86c-45de-9b43-589140c62435"
      },
      "outputs": [
        {
          "output_type": "stream",
          "name": "stdout",
          "text": [
            "r =  4.0\n"
          ]
        }
      ],
      "source": [
        "# MAT 421 Spring 2022\n",
        "# Homework 4\n",
        "# Nick Florez\n",
        "\n",
        "# Problem 1 \n",
        "\n",
        "def my_newton(f, df, x0, tol):\n",
        "# output is an estimation of the root of f\n",
        "# using the Newton-Raphson method\n",
        "# recursive implementation\n",
        "    if abs(f(x0)) < tol:\n",
        "        return x0\n",
        "    else:\n",
        "        return my_newton(f, df, x0 - f(x0)/df(x0), tol)\n",
        "\n",
        "\n",
        "def my_nth_root(x, n, tol):\n",
        "  f = lambda y: y**n-x\n",
        "  f_prime = lambda y: n*(y**(n-1))\n",
        "  r = 1\n",
        "  #Take my_newton function from pg. 331 of book \n",
        "  r = my_newton(f, f_prime, r, tol)\n",
        "  return r\n",
        "\n",
        "\n",
        "r = my_nth_root(64, 3, 1e-9)\n",
        "print(\"r = \", r)\n",
        "\n",
        "# r should = 4.0\n",
        "\n"
      ]
    },
    {
      "cell_type": "code",
      "source": [
        "#Problem 3\n",
        "\n",
        "import matplotlib.pyplot as plt\n",
        "import numpy as np\n",
        "\n",
        "# 100 linearly spaced numbers\n",
        "x = np.linspace(-5,5,100)\n",
        "\n",
        "# the function, which is y = x^3 here\n",
        "y = 1/x\n",
        "\n",
        "# setting the axes at the centre\n",
        "fig = plt.figure()\n",
        "ax = fig.add_subplot(1, 1, 1)\n",
        "ax.spines['left'].set_position('center')\n",
        "ax.spines['bottom'].set_position('center')\n",
        "ax.spines['right'].set_color('none')\n",
        "ax.spines['top'].set_color('none')\n",
        "ax.xaxis.set_ticks_position('bottom')\n",
        "ax.yaxis.set_ticks_position('left')\n",
        "\n",
        "# plot the function\n",
        "plt.plot(x,y, 'g')\n",
        "\n",
        "# show the plot\n",
        "plt.show()\n",
        "\n",
        "#As depicted by the graph, the function is neither continuous\n",
        "#nor defined at x = 0. Thus, this violates the intermediate\n",
        "#value theorem and due to the same reason, the bisection method fails to find \n",
        "#the roots of the function f(x) = 1/x"
      ],
      "metadata": {
        "colab": {
          "base_uri": "https://localhost:8080/",
          "height": 248
        },
        "id": "GRAxEsSalJmN",
        "outputId": "a99c0435-a353-44f2-f8a9-1355e10608b1"
      },
      "execution_count": null,
      "outputs": [
        {
          "output_type": "display_data",
          "data": {
            "image/png": "[encoded data removed]",
            "text/plain": [
              "<Figure size 432x288 with 1 Axes>"
            ]
          },
          "metadata": {
            "needs_background": "light"
          }
        }
      ]
    },
    {
      "cell_type": "code",
      "source": [
        "# Problem 4\n",
        "import numpy as np\n",
        "\n",
        "def my_bisection(f, a, b, tol):\n",
        "    #Calculate number of intervals\n",
        "    n = np.ceil(np.log2((b-a)/tol))\n",
        "    # initialize zero array of size n\n",
        "    R = np.zeros(int(n))\n",
        "    E = np.zeros(int(n))\n",
        "    #Set the number of iterations(limit) of while loop to n\n",
        "    limit = n\n",
        "    i = 0\n",
        "    def sign(a):\n",
        "        if(a == 0):\n",
        "            return a\n",
        "        return a/abs(a)\n",
        "        #find the center of the interval and append to R\n",
        "    while(i < limit):\n",
        "        R[i] = (a+b)/2\n",
        "        E[i] = abs(f(R[i]))\n",
        "        #if the E[i] is below tolerance, update R and E\n",
        "        if(E[i] < tol):\n",
        "            R[np.isnan(R)] = []\n",
        "            E[np.isnan(R)] = []\n",
        "        elif(sign(f(R[i])) == sign(f(a))):\n",
        "            a = R[i]\n",
        "        else:\n",
        "            b = R[i]\n",
        "        i += 1\n",
        "    return [R, E]\n",
        "\n",
        "f = lambda x: x**2 - 2\n",
        "[R, E] = my_bisection(f, 0, 2, 1e-1)\n",
        "print(\"R = \", R)\n",
        "print(\"E = \", E)\n",
        "\n",
        "f = lambda x: np.sin(x) - np.cos(x)\n",
        "[R, E] = my_bisection(f, 0, 2, 1e-2)\n",
        "print(\"R = \", R)\n",
        "print(\"E = \", E)"
      ],
      "metadata": {
        "id": "bqx3HOMwldvv",
        "colab": {
          "base_uri": "https://localhost:8080/"
        },
        "outputId": "4f9a981a-fe26-4643-9ad1-b5af6de7ec7e"
      },
      "execution_count": 25,
      "outputs": [
        {
          "output_type": "stream",
          "name": "stdout",
          "text": [
            "R =  [1.     1.5    1.25   1.375  1.4375]\n",
            "E =  [1.         0.25       0.4375     0.109375   0.06640625]\n",
            "R =  [1.      0.5     0.75    0.875   0.8125  0.78125 0.78125 0.78125]\n",
            "E =  [0.30116868 0.39815702 0.05005011 0.12654664 0.03832309 0.00586637\n",
            " 0.00586637 0.00586637]\n"
          ]
        }
      ]
    },
    {
      "cell_type": "code",
      "source": [
        "# Problem 6\n",
        "\n",
        "import numpy as np\n",
        "import math\n",
        "\n",
        "def my_pipe_builder(C_ocean, C_land, L, H):\n",
        "    p1 = lambda x: math.sqrt(H**2 + x**2)\n",
        "    p2 = lambda x: L - x\n",
        "    cost = lambda x: p1(x) * C_ocean + p2(x) * C_land\n",
        "    error = lambda a,b: cost(a) - cost(b)\n",
        "    tolerance = 1e-6\n",
        "    limit = int(np.ceil(np.log2(L/tolerance)))\n",
        "\n",
        "    i = 1\n",
        "    a = 0\n",
        "    b = L\n",
        "    while (i < limit): \n",
        "        m = (a+b)/2\n",
        "        if (abs(error(a,b)) < tolerance):\n",
        "            return m\n",
        "        elif (error(a,b) < 0):\n",
        "            b = m\n",
        "        else:\n",
        "            a = m\n",
        "        i += 1\n",
        "\n",
        "print(my_pipe_builder(20, 10, 100, 50))\n",
        "print(my_pipe_builder(30, 10, 100, 50))"
      ],
      "metadata": {
        "colab": {
          "base_uri": "https://localhost:8080/"
        },
        "id": "wAePQiqRxA9T",
        "outputId": "d0985cab-fe18-4c04-f69e-f4a41b78c2b3"
      },
      "execution_count": 28,
      "outputs": [
        {
          "output_type": "stream",
          "name": "stdout",
          "text": [
            "28.86810302734375\n",
            "17.67730712890625\n"
          ]
        }
      ]
    }
  ]
}