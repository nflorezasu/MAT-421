{
  "nbformat": 4,
  "nbformat_minor": 0,
  "metadata": {
    "colab": {
      "name": "Homework A - Nick Florez.ipynb",
      "provenance": []
    },
    "kernelspec": {
      "name": "python3",
      "display_name": "Python 3"
    },
    "language_info": {
      "name": "python"
    }
  },
  "cells": [
    {
      "cell_type": "code",
      "execution_count": null,
      "metadata": {
        "id": "zQuYNc6ZVLfy",
        "colab": {
          "base_uri": "https://localhost:8080/"
        },
        "outputId": "6ae0e070-2661-480f-9523-ad4112f3cb4c"
      },
      "outputs": [
        {
          "output_type": "stream",
          "name": "stdout",
          "text": [
            "7\n",
            "85\n",
            "33554431\n"
          ]
        }
      ],
      "source": [
        "# Problem 1\n",
        "# Converting a binary number (list) into a decimal number\n",
        "def my_bin_2_dec(b):\n",
        "  # Initialize d\n",
        "    d = 0 \n",
        "    b.reverse()\n",
        "  # Search for i in range and return as a array list of values\n",
        "    for i in range(len(b)):\n",
        "        d = d + (2**i)*b[i]\n",
        "    return d\n",
        "\n",
        "print(my_bin_2_dec([1,1,1]))\n",
        "# Output: 7\n",
        "print(my_bin_2_dec([1,0,1,0,1,0,1]))\n",
        "# Output: 85\n",
        "print(my_bin_2_dec([1]*25))\n",
        "# Output: 33554431\n"
      ]
    },
    {
      "cell_type": "code",
      "source": [
        "# Problem 2\n",
        "# Converting a decimal number to a binary list\n",
        "def my_dec_2_bin(d):\n",
        "  # initializing b and converting the decimal to an array lis\n",
        "  b = [int(i) for i in bin(d)[2:]]\n",
        "  return b\n",
        "\n",
        "print(my_dec_2_bin(0))\n",
        "# Output: [0]\n",
        "print(my_dec_2_bin(23))\n",
        "# Output: [1,0,1,1,1]\n",
        "print(my_dec_2_bin(2097))\n",
        "# Output: [1,0,0,0,0,0,1,1,0,0,0,1]"
      ],
      "metadata": {
        "colab": {
          "base_uri": "https://localhost:8080/"
        },
        "id": "IfB2IvHzBZU-",
        "outputId": "35529c5e-0d38-454b-923e-2bdd488b436a"
      },
      "execution_count": null,
      "outputs": [
        {
          "output_type": "stream",
          "name": "stdout",
          "text": [
            "[0]\n",
            "[1, 0, 1, 1, 1]\n",
            "[1, 0, 0, 0, 0, 0, 1, 1, 0, 0, 0, 1]\n"
          ]
        }
      ]
    },
    {
      "cell_type": "code",
      "source": [
        "# Problem 3\n",
        "# Check to see if converting the binary to decimal then the decimal back to\n",
        "# binary will print the inputted number4\n",
        "d = my_bin_2_dec(my_dec_2_bin(12654))\n",
        "print(d)\n",
        "# Output: 12654, which is the same number as  the input."
      ],
      "metadata": {
        "colab": {
          "base_uri": "https://localhost:8080/"
        },
        "id": "9BbHrQd6BliH",
        "outputId": "f77ce95b-e0cd-4281-c0ea-7ab49377c35a"
      },
      "execution_count": null,
      "outputs": [
        {
          "output_type": "stream",
          "name": "stdout",
          "text": [
            "12654\n"
          ]
        }
      ]
    },
    {
      "cell_type": "code",
      "source": [
        "# Problem 10\n",
        "\n",
        "# Some of the disadvantages of binary:\n",
        "# Difficult for humans to read\n",
        "# takes a lot of digits to represent any reasonable number\n",
        "\n",
        "# Some advantages of binary:\n",
        "# Easy for computers to read"
      ],
      "metadata": {
        "id": "vXehquOwWejM"
      },
      "execution_count": null,
      "outputs": []
    },
    {
      "cell_type": "code",
      "source": [
        ""
      ],
      "metadata": {
        "id": "CTJGI5UXZGuL"
      },
      "execution_count": null,
      "outputs": []
    }
  ]
}